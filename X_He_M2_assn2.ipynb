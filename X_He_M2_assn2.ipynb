{
 "cells": [
  {
   "cell_type": "markdown",
   "metadata": {},
   "source": [
    "## Summarize the problem + explain the steps you plan to take to address the problem\n",
    "1. How to do the EDA,how to choose the suitable plots to show the relationship between the explanatory variables and the response varaiable\n",
    "   \n",
    "   To address the problem, I googled boxplots, barplots to see their definition and see how people use them to explain the data.Finally, I can be more familar to these plots and decide to use them for my data.\n",
    "2. How to Plot histogram with multiple sample sets together?\n",
    "   \n",
    "   To address the problem, I googled how to plot the histogram and read 3 articles to find out the method to plot the multiple data at the same time.\n",
    "    \n",
    "3. In the EDA part, when I tried to use the Statistics model to predict which variable is better for the response variable, I get some bugs to run the code because I for get the consequence of the medol.\n",
    "   \n",
    "   To address the problem, I reviewed all the lecture notes that we had learnt in our statistics class, finally I can get it.\n",
    "   \n",
    "   \n",
    "  \n",
    "## References:\n",
    "1. Plot histogram with multiple sample sets and demonstrate:\n",
    "    \n",
    "    https://matplotlib.org/3.1.1/gallery/statistics/histogram_multihist.html\n",
    "    \n",
    "    https://www.southampton.ac.uk/~fangohr/training/python/notebooks/Matplotlib.html\n",
    "    \n",
    "2. How to Identify Skew and Symmetry in a Statistical Histogram: \n",
    "\n",
    "   https://www.dummies.com/education/math/statistics/how-to-identify-skew-and-symmetry-in-a-statistical-histogram/\n",
    "   "
   ]
  },
  {
   "cell_type": "code",
   "execution_count": 182,
   "metadata": {},
   "outputs": [],
   "source": [
    "import pandas as pd\n",
    "import numpy as np\n",
    "import seaborn as sns\n",
    "import matplotlib.pyplot as plt\n"
   ]
  },
  {
   "cell_type": "code",
   "execution_count": 183,
   "metadata": {},
   "outputs": [
    {
     "data": {
      "text/html": [
       "<div>\n",
       "<style scoped>\n",
       "    .dataframe tbody tr th:only-of-type {\n",
       "        vertical-align: middle;\n",
       "    }\n",
       "\n",
       "    .dataframe tbody tr th {\n",
       "        vertical-align: top;\n",
       "    }\n",
       "\n",
       "    .dataframe thead th {\n",
       "        text-align: right;\n",
       "    }\n",
       "</style>\n",
       "<table border=\"1\" class=\"dataframe\">\n",
       "  <thead>\n",
       "    <tr style=\"text-align: right;\">\n",
       "      <th></th>\n",
       "      <th>T</th>\n",
       "      <th>V</th>\n",
       "      <th>AP</th>\n",
       "      <th>RH</th>\n",
       "      <th>EP</th>\n",
       "    </tr>\n",
       "  </thead>\n",
       "  <tbody>\n",
       "    <tr>\n",
       "      <th>0</th>\n",
       "      <td>14.96</td>\n",
       "      <td>41.76</td>\n",
       "      <td>1024.07</td>\n",
       "      <td>73.17</td>\n",
       "      <td>463.26</td>\n",
       "    </tr>\n",
       "    <tr>\n",
       "      <th>1</th>\n",
       "      <td>25.18</td>\n",
       "      <td>62.96</td>\n",
       "      <td>1020.04</td>\n",
       "      <td>59.08</td>\n",
       "      <td>444.37</td>\n",
       "    </tr>\n",
       "    <tr>\n",
       "      <th>2</th>\n",
       "      <td>5.11</td>\n",
       "      <td>39.40</td>\n",
       "      <td>1012.16</td>\n",
       "      <td>92.14</td>\n",
       "      <td>488.56</td>\n",
       "    </tr>\n",
       "    <tr>\n",
       "      <th>3</th>\n",
       "      <td>20.86</td>\n",
       "      <td>57.32</td>\n",
       "      <td>1010.24</td>\n",
       "      <td>76.64</td>\n",
       "      <td>446.48</td>\n",
       "    </tr>\n",
       "    <tr>\n",
       "      <th>4</th>\n",
       "      <td>10.82</td>\n",
       "      <td>37.50</td>\n",
       "      <td>1009.23</td>\n",
       "      <td>96.62</td>\n",
       "      <td>473.90</td>\n",
       "    </tr>\n",
       "    <tr>\n",
       "      <th>...</th>\n",
       "      <td>...</td>\n",
       "      <td>...</td>\n",
       "      <td>...</td>\n",
       "      <td>...</td>\n",
       "      <td>...</td>\n",
       "    </tr>\n",
       "    <tr>\n",
       "      <th>9563</th>\n",
       "      <td>16.65</td>\n",
       "      <td>49.69</td>\n",
       "      <td>1014.01</td>\n",
       "      <td>91.00</td>\n",
       "      <td>460.03</td>\n",
       "    </tr>\n",
       "    <tr>\n",
       "      <th>9564</th>\n",
       "      <td>13.19</td>\n",
       "      <td>39.18</td>\n",
       "      <td>1023.67</td>\n",
       "      <td>66.78</td>\n",
       "      <td>469.62</td>\n",
       "    </tr>\n",
       "    <tr>\n",
       "      <th>9565</th>\n",
       "      <td>31.32</td>\n",
       "      <td>74.33</td>\n",
       "      <td>1012.92</td>\n",
       "      <td>36.48</td>\n",
       "      <td>429.57</td>\n",
       "    </tr>\n",
       "    <tr>\n",
       "      <th>9566</th>\n",
       "      <td>24.48</td>\n",
       "      <td>69.45</td>\n",
       "      <td>1013.86</td>\n",
       "      <td>62.39</td>\n",
       "      <td>435.74</td>\n",
       "    </tr>\n",
       "    <tr>\n",
       "      <th>9567</th>\n",
       "      <td>21.60</td>\n",
       "      <td>62.52</td>\n",
       "      <td>1017.23</td>\n",
       "      <td>67.87</td>\n",
       "      <td>453.28</td>\n",
       "    </tr>\n",
       "  </tbody>\n",
       "</table>\n",
       "<p>9568 rows × 5 columns</p>\n",
       "</div>"
      ],
      "text/plain": [
       "          T      V       AP     RH      EP\n",
       "0     14.96  41.76  1024.07  73.17  463.26\n",
       "1     25.18  62.96  1020.04  59.08  444.37\n",
       "2      5.11  39.40  1012.16  92.14  488.56\n",
       "3     20.86  57.32  1010.24  76.64  446.48\n",
       "4     10.82  37.50  1009.23  96.62  473.90\n",
       "...     ...    ...      ...    ...     ...\n",
       "9563  16.65  49.69  1014.01  91.00  460.03\n",
       "9564  13.19  39.18  1023.67  66.78  469.62\n",
       "9565  31.32  74.33  1012.92  36.48  429.57\n",
       "9566  24.48  69.45  1013.86  62.39  435.74\n",
       "9567  21.60  62.52  1017.23  67.87  453.28\n",
       "\n",
       "[9568 rows x 5 columns]"
      ]
     },
     "execution_count": 183,
     "metadata": {},
     "output_type": "execute_result"
    }
   ],
   "source": [
    "# read data from github\n",
    "\n",
    "df = pd.read_csv(\"https://raw.githubusercontent.com/XIAOJIA68/DAV-6150/master/M2_Data.csv\")\n",
    "df\n"
   ]
  },
  {
   "cell_type": "markdown",
   "metadata": {},
   "source": [
    "## Part2: Perform some basic exploratory data analysis (EDA) "
   ]
  },
  {
   "cell_type": "code",
   "execution_count": 184,
   "metadata": {},
   "outputs": [
    {
     "data": {
      "text/html": [
       "<div>\n",
       "<style scoped>\n",
       "    .dataframe tbody tr th:only-of-type {\n",
       "        vertical-align: middle;\n",
       "    }\n",
       "\n",
       "    .dataframe tbody tr th {\n",
       "        vertical-align: top;\n",
       "    }\n",
       "\n",
       "    .dataframe thead th {\n",
       "        text-align: right;\n",
       "    }\n",
       "</style>\n",
       "<table border=\"1\" class=\"dataframe\">\n",
       "  <thead>\n",
       "    <tr style=\"text-align: right;\">\n",
       "      <th></th>\n",
       "      <th>T</th>\n",
       "      <th>V</th>\n",
       "      <th>AP</th>\n",
       "      <th>RH</th>\n",
       "      <th>EP</th>\n",
       "    </tr>\n",
       "  </thead>\n",
       "  <tbody>\n",
       "    <tr>\n",
       "      <th>count</th>\n",
       "      <td>9568.000000</td>\n",
       "      <td>9568.000000</td>\n",
       "      <td>9568.000000</td>\n",
       "      <td>9568.000000</td>\n",
       "      <td>9568.000000</td>\n",
       "    </tr>\n",
       "    <tr>\n",
       "      <th>mean</th>\n",
       "      <td>19.651231</td>\n",
       "      <td>54.305804</td>\n",
       "      <td>1013.259078</td>\n",
       "      <td>73.308978</td>\n",
       "      <td>454.365009</td>\n",
       "    </tr>\n",
       "    <tr>\n",
       "      <th>std</th>\n",
       "      <td>7.452473</td>\n",
       "      <td>12.707893</td>\n",
       "      <td>5.938784</td>\n",
       "      <td>14.600269</td>\n",
       "      <td>17.066995</td>\n",
       "    </tr>\n",
       "    <tr>\n",
       "      <th>min</th>\n",
       "      <td>1.810000</td>\n",
       "      <td>25.360000</td>\n",
       "      <td>992.890000</td>\n",
       "      <td>25.560000</td>\n",
       "      <td>420.260000</td>\n",
       "    </tr>\n",
       "    <tr>\n",
       "      <th>25%</th>\n",
       "      <td>13.510000</td>\n",
       "      <td>41.740000</td>\n",
       "      <td>1009.100000</td>\n",
       "      <td>63.327500</td>\n",
       "      <td>439.750000</td>\n",
       "    </tr>\n",
       "    <tr>\n",
       "      <th>50%</th>\n",
       "      <td>20.345000</td>\n",
       "      <td>52.080000</td>\n",
       "      <td>1012.940000</td>\n",
       "      <td>74.975000</td>\n",
       "      <td>451.550000</td>\n",
       "    </tr>\n",
       "    <tr>\n",
       "      <th>75%</th>\n",
       "      <td>25.720000</td>\n",
       "      <td>66.540000</td>\n",
       "      <td>1017.260000</td>\n",
       "      <td>84.830000</td>\n",
       "      <td>468.430000</td>\n",
       "    </tr>\n",
       "    <tr>\n",
       "      <th>max</th>\n",
       "      <td>37.110000</td>\n",
       "      <td>81.560000</td>\n",
       "      <td>1033.300000</td>\n",
       "      <td>100.160000</td>\n",
       "      <td>495.760000</td>\n",
       "    </tr>\n",
       "  </tbody>\n",
       "</table>\n",
       "</div>"
      ],
      "text/plain": [
       "                 T            V           AP           RH           EP\n",
       "count  9568.000000  9568.000000  9568.000000  9568.000000  9568.000000\n",
       "mean     19.651231    54.305804  1013.259078    73.308978   454.365009\n",
       "std       7.452473    12.707893     5.938784    14.600269    17.066995\n",
       "min       1.810000    25.360000   992.890000    25.560000   420.260000\n",
       "25%      13.510000    41.740000  1009.100000    63.327500   439.750000\n",
       "50%      20.345000    52.080000  1012.940000    74.975000   451.550000\n",
       "75%      25.720000    66.540000  1017.260000    84.830000   468.430000\n",
       "max      37.110000    81.560000  1033.300000   100.160000   495.760000"
      ]
     },
     "execution_count": 184,
     "metadata": {},
     "output_type": "execute_result"
    }
   ],
   "source": [
    "# At first, print a summary of the data to better understand the details, \n",
    "df.describe()"
   ]
  },
  {
   "cell_type": "markdown",
   "metadata": {},
   "source": [
    "#### From the chart above, we can clearly see the mean, standerd diviation, first quartile (Q1), median, third quartile (Q3),minmum and maxmum for each attribute."
   ]
  },
  {
   "cell_type": "code",
   "execution_count": 185,
   "metadata": {},
   "outputs": [
    {
     "data": {
      "text/plain": [
       "Text(0.5, 0, 'energy output')"
      ]
     },
     "execution_count": 185,
     "metadata": {},
     "output_type": "execute_result"
    },
    {
     "data": {
      "image/png": "[encoded data removed]",
      "text/plain": [
       "<Figure size 432x288 with 1 Axes>"
      ]
     },
     "metadata": {
      "needs_background": "light"
     },
     "output_type": "display_data"
    }
   ],
   "source": [
    "# use box plot to show the details of energy output\n",
    "sns.boxplot(x='EP', data=df)\n",
    "\n",
    "# give the plot a title\n",
    "plt.title('Boxplot of energy output')\n",
    " \n",
    "# x-axis label for a box plotdata:image/png;base64,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\n",
    "plt.xlabel('energy output')"
   ]
  },
  {
   "cell_type": "markdown",
   "metadata": {},
   "source": [
    "#### From the boxplot above, we can see that the minmum energy output is about 420, the maxmum is 495, and the median is about 452. Most of the energy output is in 440-470."
   ]
  },
  {
   "cell_type": "code",
   "execution_count": 186,
   "metadata": {},
   "outputs": [
    {
     "data": {
      "image/png": "[encoded data removed]",
      "text/plain": [
       "<Figure size 432x288 with 1 Axes>"
      ]
     },
     "metadata": {
      "needs_background": "light"
     },
     "output_type": "display_data"
    }
   ],
   "source": [
    "# use the histagram plot to show the frequency of the energy output\n",
    "plt.hist(df['EP'], bins = 10)\n",
    "# give the plot a title\n",
    "plt.title('Histagram of energy output')\n",
    "# x-axis label for a box plot\n",
    "plt.xlabel('energy output')\n",
    "plt.show()\n"
   ]
  },
  {
   "cell_type": "markdown",
   "metadata": {},
   "source": [
    "#### From the energy output histogram which is strong right skew distribution, we can see that the highest frequecy of energy output is about 440, which is 1750 times, and the most of energy output is in 430-480 which the frequency is more than 1000."
   ]
  },
  {
   "cell_type": "code",
   "execution_count": 187,
   "metadata": {},
   "outputs": [
    {
     "data": {
      "image/png": "[encoded data removed]",
      "text/plain": [
       "<Figure size 432x288 with 4 Axes>"
      ]
     },
     "metadata": {
      "needs_background": "light"
     },
     "output_type": "display_data"
    }
   ],
   "source": [
    "# use the histagram plot to show the frequency of the four explanatory variables:the temperature, ambient pressure, relative humidity,\n",
    "# humidity and exhaust vacuum  \n",
    "\n",
    "\n",
    "fig, axes = plt.subplots(nrows=2, ncols=2)\n",
    "ax0, ax1, ax2, ax3= axes.flatten()\n",
    "\n",
    "# use the histagram plot to show the frequency og the pressure\n",
    "ax0.hist(df['T'], bins = 10, histtype='bar')\n",
    "# give the plot a title\n",
    "ax0.set_title('Histagram of Temperature')\n",
    "\n",
    "\n",
    "ax1.hist(df['V'], bins = 10, histtype='bar')\n",
    "ax1.set_title('Histagram of exhaust vacuum')\n",
    "\n",
    "ax2.hist(df['AP'], bins = 10,  histtype='bar')\n",
    "ax2.set_title('Histagram of Pressure')\n",
    "\n",
    "\n",
    "ax3.hist(df['RH'], bins = 10,  histtype='bar')\n",
    "ax3.set_title('Histagram of humidity')\n",
    "\n",
    "\n",
    "fig.tight_layout()\n",
    "plt.show()"
   ]
  },
  {
   "cell_type": "markdown",
   "metadata": {},
   "source": [
    "#### From the temperature histagram above which  looks like a normal distribution. we can see that the highest frequency of temperature is in about 25 degree which has more 1500 times, and most of temperature is concentrated in 10-30 degree.\n",
    "\n",
    "#### For the histagram of exhaust vacuum which is strong right skew. the highest frequency of vacuum is in about 40 which has more 2000 times, and most of temperature is concentrated in 38-50 and 60-75. \n",
    "\n",
    "#### For the histagram of pressure which looks like a nearly normal distribution. the highest frequency of Pressure is in about 1000 which has more 2300 times, and most of temperature is concentrated in 1005-1020. \n",
    "\n",
    "#### For the histagram of humidity which is strong left skew, the highest frequency of humidity is in about 80 which has more 1550 times, and most of temperature is concentrated in 70-90. "
   ]
  },
  {
   "cell_type": "markdown",
   "metadata": {},
   "source": [
    "#  Identify some preliminary predictive inferences"
   ]
  },
  {
   "cell_type": "markdown",
   "metadata": {},
   "source": [
    "#### From the histigrams above, I pridict that the exhaust vacuum variable and humidity variable appear to be more relative to predicte the energy output variable, and they should be positively and negatively correlated separately. Since both of them are strong right skew and left skew respectively, and the energy output is also right skew. However, for the temperature and pressure , I guess them should be the least predictive, because they look like normal distributions which means that they do not have too much influence on the energy output. "
   ]
  },
  {
   "cell_type": "markdown",
   "metadata": {},
   "source": [
    "#### To verify my prediction, I choose to use the statsmodels to predict if there is a liner regression relationship between these explanatory variables and the response variable\n"
   ]
  },
  {
   "cell_type": "markdown",
   "metadata": {},
   "source": [
    "# For the first temperature variable, use the statsmodels to find the relationship with the energy output response variable.\n"
   ]
  },
  {
   "cell_type": "code",
   "execution_count": 188,
   "metadata": {},
   "outputs": [
    {
     "ename": "SyntaxError",
     "evalue": "invalid syntax (<ipython-input-188-1eca4adbb11e>, line 3)",
     "output_type": "error",
     "traceback": [
      "\u001b[1;36m  File \u001b[1;32m\"<ipython-input-188-1eca4adbb11e>\"\u001b[1;36m, line \u001b[1;32m3\u001b[0m\n\u001b[1;33m    import the statsmodelsimport statsmodels.api as sm\u001b[0m\n\u001b[1;37m                               ^\u001b[0m\n\u001b[1;31mSyntaxError\u001b[0m\u001b[1;31m:\u001b[0m invalid syntax\n"
     ]
    }
   ],
   "source": [
    "# For the first Temperature variable, we try to generate the regression model for the energy output response variable\n",
    "\n",
    "import the statsmodelsimport statsmodels.api as sm\n",
    "from sklearn.linear_model import LinearRegression\n",
    "from sklearn import metrics\n",
    "import scipy.stats as stats\n",
    "%matplotlib inline\n",
    "import seaborn as sns\n",
    "import matplotlib.pyplot as plt\n",
    "\n",
    "formula_string1 = \"EP ~ T\"\n",
    "\n",
    "model1 = sm.formula.ols(formula = formula_string1, data = df)\n",
    "model_fitted1 = model1.fit()\n",
    "\n",
    "# print the medol summary\n",
    "print(model_fitted1.summary())\n"
   ]
  },
  {
   "cell_type": "code",
   "execution_count": 189,
   "metadata": {},
   "outputs": [
    {
     "data": {
      "image/png": "[encoded data removed]",
      "text/plain": [
       "<Figure size 432x288 with 1 Axes>"
      ]
     },
     "metadata": {
      "needs_background": "light"
     },
     "output_type": "display_data"
    }
   ],
   "source": [
    "# Produce a scatterplot of the two variables and fit a linear model to summarize the relationship between these two \n",
    "#variables and finding the line that best follows their association.\n",
    "\n",
    "\n",
    "import seaborn as sns\n",
    "import matplotlib.pyplot as plt\n",
    "\n",
    "x1 = df['T']\n",
    "y1 = df['EP']\n",
    "\n",
    "y_pred1 = model_fitted1.predict(x1)\n",
    "\n",
    "plt.scatter(x1, y1)\n",
    "plt.plot(x1, y_pred1, color = 'orange')\n",
    "plt.show();"
   ]
  },
  {
   "cell_type": "code",
   "execution_count": 190,
   "metadata": {},
   "outputs": [
    {
     "name": "stdout",
     "output_type": "stream",
     "text": [
      "R-squared1 = 0.8989475964148236\n"
     ]
    }
   ],
   "source": [
    "# print the R-square value for this model\n",
    "\n",
    "print('R-squared1 =', model_fitted1.rsquared)"
   ]
  },
  {
   "cell_type": "markdown",
   "metadata": {},
   "source": [
    "### The R-square value represents the proportion of variability in the response variable that is explained by the explanatory variable. We try to use the rsquared function to estimate the strongth of this module, so for this model, it means there is about 90 percent of the temperature is fitted in this moedel.  and we can see that they are negatively relative."
   ]
  },
  {
   "cell_type": "markdown",
   "metadata": {},
   "source": [
    "# Similarly for Pressure variable, I use the same method to build the model\n"
   ]
  },
  {
   "cell_type": "code",
   "execution_count": 191,
   "metadata": {},
   "outputs": [
    {
     "name": "stdout",
     "output_type": "stream",
     "text": [
      "R-squared2 = 0.2687686564110674\n"
     ]
    }
   ],
   "source": [
    "\n",
    "formula_string2 = \"EP ~ AP\"\n",
    "\n",
    "model2 = sm.formula.ols(formula = formula_string2, data = df)\n",
    "model_fitted2 = model2.fit()\n",
    "#print(model_fitted2.summary())\n",
    "\n",
    "# print the R-square value for this model\n",
    "print('R-squared2 =', model_fitted2.rsquared)"
   ]
  },
  {
   "cell_type": "code",
   "execution_count": 192,
   "metadata": {},
   "outputs": [
    {
     "data": {
      "image/png": "[encoded data removed]",
      "text/plain": [
       "<Figure size 432x288 with 1 Axes>"
      ]
     },
     "metadata": {
      "needs_background": "light"
     },
     "output_type": "display_data"
    }
   ],
   "source": [
    "# Produce a scatterplot of the two variables and fit a linear model to summarize the relationship between these two \n",
    "#variables and finding the line that best follows their association.\n",
    "\n",
    "\n",
    "import seaborn as sns\n",
    "import matplotlib.pyplot as plt\n",
    "\n",
    "x2 = df['AP']\n",
    "y2 = df['EP']\n",
    "\n",
    "y_pred2 = model_fitted2.predict(x2)\n",
    "\n",
    "plt.scatter(x2, y2)\n",
    "plt.plot(x2, y_pred2, color = 'orange')\n",
    "plt.show();"
   ]
  },
  {
   "cell_type": "markdown",
   "metadata": {},
   "source": [
    "### So for this model, it means there is only 27 percent of the pressure is fitted in this moedel.  "
   ]
  },
  {
   "cell_type": "markdown",
   "metadata": {},
   "source": [
    "## For the relative humidity variable\n"
   ]
  },
  {
   "cell_type": "code",
   "execution_count": 193,
   "metadata": {},
   "outputs": [
    {
     "name": "stdout",
     "output_type": "stream",
     "text": [
      "R-squared3 = 0.15193944023117578\n"
     ]
    }
   ],
   "source": [
    "# build the model \n",
    "\n",
    "formula_string3 = \"EP ~ RH\"\n",
    "\n",
    "model3 = sm.formula.ols(formula = formula_string3, data = df)\n",
    "model_fitted3 = model3.fit()\n",
    "#print(model_fitted3.summary())\n",
    "\n",
    "\n",
    "# print the R-square value for this model\n",
    "print('R-squared3 =', model_fitted3.rsquared)"
   ]
  },
  {
   "cell_type": "code",
   "execution_count": 194,
   "metadata": {},
   "outputs": [
    {
     "data": {
      "image/png": "[encoded data removed]",
      "text/plain": [
       "<Figure size 432x288 with 1 Axes>"
      ]
     },
     "metadata": {
      "needs_background": "light"
     },
     "output_type": "display_data"
    }
   ],
   "source": [
    "# Produce a scatterplot of the two variables and fit a linear model to summarize the relationship between these two \n",
    "#variables and finding the line that best follows their association.\n",
    "\n",
    "x3 = df['RH']\n",
    "y3 = df['EP']\n",
    "\n",
    "y_pred3 = model_fitted3.predict(x3)\n",
    "\n",
    "plt.scatter(x3, y3)\n",
    "plt.plot(x3, y_pred3, color = 'orange')\n",
    "plt.show();"
   ]
  },
  {
   "cell_type": "markdown",
   "metadata": {},
   "source": [
    "### So for this model, it means there is only 15 percent of the relative humidity is fitted in this moedel.  "
   ]
  },
  {
   "cell_type": "markdown",
   "metadata": {},
   "source": [
    "## For the exhaust vacuum variable"
   ]
  },
  {
   "cell_type": "code",
   "execution_count": 195,
   "metadata": {},
   "outputs": [
    {
     "name": "stdout",
     "output_type": "stream",
     "text": [
      "R-squared4 = 0.7565177870683979\n"
     ]
    }
   ],
   "source": [
    "# similarly build the model \n",
    "\n",
    "formula_string4 = \"EP ~ V\"\n",
    "\n",
    "model4 = sm.formula.ols(formula = formula_string4, data = df)\n",
    "model_fitted4 = model4.fit()\n",
    "#print(model_fitted4.summary())\n",
    "\n",
    "\n",
    "# print the R-square value for this model\n",
    "print('R-squared4 =', model_fitted4.rsquared)"
   ]
  },
  {
   "cell_type": "code",
   "execution_count": 196,
   "metadata": {},
   "outputs": [
    {
     "data": {
      "image/png": "[encoded data removed]",
      "text/plain": [
       "<Figure size 432x288 with 1 Axes>"
      ]
     },
     "metadata": {
      "needs_background": "light"
     },
     "output_type": "display_data"
    }
   ],
   "source": [
    "# Produce a scatterplot of the two variables and fit a linear model to summarize the relationship between these two \n",
    "#variables and finding the line that best follows their association.\n",
    "\n",
    "x4 = df['V']\n",
    "y4 = df['EP']\n",
    "\n",
    "y_pred4 = model_fitted4.predict(x4)\n",
    "\n",
    "plt.scatter(x4, y4)\n",
    "plt.plot(x4, y_pred4, color = 'orange')\n",
    "plt.show();"
   ]
  },
  {
   "cell_type": "markdown",
   "metadata": {},
   "source": [
    "### So for this model, it means there is only 75 percent of the exhaust vacuum is fitted in this moedel. "
   ]
  },
  {
   "cell_type": "markdown",
   "metadata": {},
   "source": [
    "### Finally comparing these explanatory variables through their R_squares of the model, we can observe that the temperature has the higghtest R_square which means that it's the most predictive explanatory variavles for the energy output response variable. The second is exhaust vacuum. However the relative humidity is the least predictive to the response variable. "
   ]
  },
  {
   "cell_type": "markdown",
   "metadata": {},
   "source": [
    "# Part 4: Construct two different linear regression models that predict net hourly electrical energy output "
   ]
  },
  {
   "cell_type": "code",
   "execution_count": 197,
   "metadata": {},
   "outputs": [
    {
     "data": {
      "text/plain": [
       "0"
      ]
     },
     "execution_count": 197,
     "metadata": {},
     "output_type": "execute_result"
    }
   ],
   "source": [
    "# check for missing energy output values\n",
    "df['EP'].isnull().sum()"
   ]
  },
  {
   "cell_type": "code",
   "execution_count": 198,
   "metadata": {},
   "outputs": [
    {
     "data": {
      "text/plain": [
       "0    463.26\n",
       "1    444.37\n",
       "2    488.56\n",
       "3    446.48\n",
       "4    473.90\n",
       "Name: EP, dtype: float64"
      ]
     },
     "execution_count": 198,
     "metadata": {},
     "output_type": "execute_result"
    }
   ],
   "source": [
    "# load the train_test_split function from the sklearn.model_selection module\n",
    "from sklearn.model_selection import train_test_split\n",
    "\n",
    "# move the response variable (in this case \"EP\") to a separate variable\n",
    "y = df.EP\n",
    "\n",
    "# check results\n",
    "y.head()"
   ]
  },
  {
   "cell_type": "code",
   "execution_count": 199,
   "metadata": {},
   "outputs": [
    {
     "data": {
      "text/html": [
       "<div>\n",
       "<style scoped>\n",
       "    .dataframe tbody tr th:only-of-type {\n",
       "        vertical-align: middle;\n",
       "    }\n",
       "\n",
       "    .dataframe tbody tr th {\n",
       "        vertical-align: top;\n",
       "    }\n",
       "\n",
       "    .dataframe thead th {\n",
       "        text-align: right;\n",
       "    }\n",
       "</style>\n",
       "<table border=\"1\" class=\"dataframe\">\n",
       "  <thead>\n",
       "    <tr style=\"text-align: right;\">\n",
       "      <th></th>\n",
       "      <th>T</th>\n",
       "      <th>V</th>\n",
       "      <th>AP</th>\n",
       "      <th>RH</th>\n",
       "    </tr>\n",
       "  </thead>\n",
       "  <tbody>\n",
       "    <tr>\n",
       "      <th>0</th>\n",
       "      <td>14.96</td>\n",
       "      <td>41.76</td>\n",
       "      <td>1024.07</td>\n",
       "      <td>73.17</td>\n",
       "    </tr>\n",
       "    <tr>\n",
       "      <th>1</th>\n",
       "      <td>25.18</td>\n",
       "      <td>62.96</td>\n",
       "      <td>1020.04</td>\n",
       "      <td>59.08</td>\n",
       "    </tr>\n",
       "    <tr>\n",
       "      <th>2</th>\n",
       "      <td>5.11</td>\n",
       "      <td>39.40</td>\n",
       "      <td>1012.16</td>\n",
       "      <td>92.14</td>\n",
       "    </tr>\n",
       "    <tr>\n",
       "      <th>3</th>\n",
       "      <td>20.86</td>\n",
       "      <td>57.32</td>\n",
       "      <td>1010.24</td>\n",
       "      <td>76.64</td>\n",
       "    </tr>\n",
       "    <tr>\n",
       "      <th>4</th>\n",
       "      <td>10.82</td>\n",
       "      <td>37.50</td>\n",
       "      <td>1009.23</td>\n",
       "      <td>96.62</td>\n",
       "    </tr>\n",
       "  </tbody>\n",
       "</table>\n",
       "</div>"
      ],
      "text/plain": [
       "       T      V       AP     RH\n",
       "0  14.96  41.76  1024.07  73.17\n",
       "1  25.18  62.96  1020.04  59.08\n",
       "2   5.11  39.40  1012.16  92.14\n",
       "3  20.86  57.32  1010.24  76.64\n",
       "4  10.82  37.50  1009.23  96.62"
      ]
     },
     "execution_count": 199,
     "metadata": {},
     "output_type": "execute_result"
    }
   ],
   "source": [
    "# move only the explanatory variables to a separate variable \n",
    "# so that the original explanatory variables are preserved\n",
    "X = df[['T','V','AP','RH']].copy()\n",
    "\n",
    "# The ArrDelay column has been removed from the data set\n",
    "X.head()"
   ]
  },
  {
   "cell_type": "code",
   "execution_count": 200,
   "metadata": {},
   "outputs": [],
   "source": [
    "# Now split the data into training and testing subsets. \n",
    "# We'll set aside 30% of the data for testing purposes; Remember to make sure you specify a value for the inital random_state\n",
    "# if you want to have the ability to reproduce the exact same training + testing subsets repeatedly\n",
    "X_train, X_test, y_train, y_test = train_test_split(X, y, test_size=0.3, random_state=12)"
   ]
  },
  {
   "cell_type": "code",
   "execution_count": 201,
   "metadata": {},
   "outputs": [
    {
     "data": {
      "text/plain": [
       "6697"
      ]
     },
     "execution_count": 201,
     "metadata": {},
     "output_type": "execute_result"
    }
   ],
   "source": [
    "# check the results\n",
    "len(X_train)"
   ]
  },
  {
   "cell_type": "code",
   "execution_count": 202,
   "metadata": {},
   "outputs": [
    {
     "data": {
      "text/plain": [
       "2871"
      ]
     },
     "execution_count": 202,
     "metadata": {},
     "output_type": "execute_result"
    }
   ],
   "source": [
    "len(X_test)"
   ]
  },
  {
   "cell_type": "code",
   "execution_count": 203,
   "metadata": {},
   "outputs": [
    {
     "data": {
      "text/plain": [
       "1371    446.36\n",
       "4375    489.68\n",
       "7994    426.48\n",
       "5579    457.49\n",
       "7297    450.97\n",
       "Name: EP, dtype: float64"
      ]
     },
     "execution_count": 203,
     "metadata": {},
     "output_type": "execute_result"
    }
   ],
   "source": [
    "# Let's check the row indices of the new objects to see whether they match\n",
    "y_test.head()"
   ]
  },
  {
   "cell_type": "code",
   "execution_count": 204,
   "metadata": {},
   "outputs": [
    {
     "data": {
      "text/html": [
       "<div>\n",
       "<style scoped>\n",
       "    .dataframe tbody tr th:only-of-type {\n",
       "        vertical-align: middle;\n",
       "    }\n",
       "\n",
       "    .dataframe tbody tr th {\n",
       "        vertical-align: top;\n",
       "    }\n",
       "\n",
       "    .dataframe thead th {\n",
       "        text-align: right;\n",
       "    }\n",
       "</style>\n",
       "<table border=\"1\" class=\"dataframe\">\n",
       "  <thead>\n",
       "    <tr style=\"text-align: right;\">\n",
       "      <th></th>\n",
       "      <th>T</th>\n",
       "      <th>V</th>\n",
       "      <th>AP</th>\n",
       "      <th>RH</th>\n",
       "    </tr>\n",
       "  </thead>\n",
       "  <tbody>\n",
       "    <tr>\n",
       "      <th>1371</th>\n",
       "      <td>25.13</td>\n",
       "      <td>68.63</td>\n",
       "      <td>1013.57</td>\n",
       "      <td>43.44</td>\n",
       "    </tr>\n",
       "    <tr>\n",
       "      <th>4375</th>\n",
       "      <td>3.96</td>\n",
       "      <td>35.47</td>\n",
       "      <td>1016.79</td>\n",
       "      <td>83.81</td>\n",
       "    </tr>\n",
       "    <tr>\n",
       "      <th>7994</th>\n",
       "      <td>28.55</td>\n",
       "      <td>74.33</td>\n",
       "      <td>1011.77</td>\n",
       "      <td>73.34</td>\n",
       "    </tr>\n",
       "    <tr>\n",
       "      <th>5579</th>\n",
       "      <td>15.60</td>\n",
       "      <td>41.04</td>\n",
       "      <td>1025.48</td>\n",
       "      <td>64.43</td>\n",
       "    </tr>\n",
       "    <tr>\n",
       "      <th>7297</th>\n",
       "      <td>20.77</td>\n",
       "      <td>51.30</td>\n",
       "      <td>1013.89</td>\n",
       "      <td>88.72</td>\n",
       "    </tr>\n",
       "  </tbody>\n",
       "</table>\n",
       "</div>"
      ],
      "text/plain": [
       "          T      V       AP     RH\n",
       "1371  25.13  68.63  1013.57  43.44\n",
       "4375   3.96  35.47  1016.79  83.81\n",
       "7994  28.55  74.33  1011.77  73.34\n",
       "5579  15.60  41.04  1025.48  64.43\n",
       "7297  20.77  51.30  1013.89  88.72"
      ]
     },
     "execution_count": 204,
     "metadata": {},
     "output_type": "execute_result"
    }
   ],
   "source": [
    "X_test.head()"
   ]
  },
  {
   "cell_type": "code",
   "execution_count": 205,
   "metadata": {},
   "outputs": [
    {
     "data": {
      "text/plain": [
       "1090    473.67\n",
       "6137    436.33\n",
       "4703    475.61\n",
       "1901    473.56\n",
       "3704    453.90\n",
       "Name: EP, dtype: float64"
      ]
     },
     "execution_count": 205,
     "metadata": {},
     "output_type": "execute_result"
    }
   ],
   "source": [
    "y_train.head()"
   ]
  },
  {
   "cell_type": "markdown",
   "metadata": {},
   "source": [
    "## Using scikit-learn's Cross Validation Capabilities\n",
    "\n",
    "#### To make use of cross validation capability via the __cross_val_score()__ function in the scikit-learn, we continue our example from above by constructing a small linear regression model for purposes of predicting energy output  using the providedexpanatory variables."
   ]
  },
  {
   "cell_type": "markdown",
   "metadata": {},
   "source": [
    "# First linear regression model:\n",
    "\n",
    "### How to decided upon the explanatory variables:\n",
    "#### According to my EDA above, I choose temperature and exhaust vaccum as my explanatory variables for my first linear model,because both of them have the higher R_squares that I got from my stasmodel."
   ]
  },
  {
   "cell_type": "code",
   "execution_count": 206,
   "metadata": {},
   "outputs": [
    {
     "data": {
      "text/html": [
       "<div>\n",
       "<style scoped>\n",
       "    .dataframe tbody tr th:only-of-type {\n",
       "        vertical-align: middle;\n",
       "    }\n",
       "\n",
       "    .dataframe tbody tr th {\n",
       "        vertical-align: top;\n",
       "    }\n",
       "\n",
       "    .dataframe thead th {\n",
       "        text-align: right;\n",
       "    }\n",
       "</style>\n",
       "<table border=\"1\" class=\"dataframe\">\n",
       "  <thead>\n",
       "    <tr style=\"text-align: right;\">\n",
       "      <th></th>\n",
       "      <th>T</th>\n",
       "      <th>V</th>\n",
       "    </tr>\n",
       "  </thead>\n",
       "  <tbody>\n",
       "    <tr>\n",
       "      <th>1090</th>\n",
       "      <td>12.57</td>\n",
       "      <td>39.30</td>\n",
       "    </tr>\n",
       "    <tr>\n",
       "      <th>6137</th>\n",
       "      <td>25.27</td>\n",
       "      <td>69.89</td>\n",
       "    </tr>\n",
       "    <tr>\n",
       "      <th>4703</th>\n",
       "      <td>12.57</td>\n",
       "      <td>41.66</td>\n",
       "    </tr>\n",
       "    <tr>\n",
       "      <th>1901</th>\n",
       "      <td>13.80</td>\n",
       "      <td>39.82</td>\n",
       "    </tr>\n",
       "    <tr>\n",
       "      <th>3704</th>\n",
       "      <td>18.80</td>\n",
       "      <td>47.83</td>\n",
       "    </tr>\n",
       "  </tbody>\n",
       "</table>\n",
       "</div>"
      ],
      "text/plain": [
       "          T      V\n",
       "1090  12.57  39.30\n",
       "6137  25.27  69.89\n",
       "4703  12.57  41.66\n",
       "1901  13.80  39.82\n",
       "3704  18.80  47.83"
      ]
     },
     "execution_count": 206,
     "metadata": {},
     "output_type": "execute_result"
    }
   ],
   "source": [
    "# load the LinearRegression() function from sklearn's 'linear_model' sub-library\n",
    "from sklearn.linear_model import LinearRegression\n",
    "\n",
    "# load the cross_val_score function from the sklearn.model_selection module\n",
    "from sklearn.model_selection import cross_val_score\n",
    "\n",
    "# create a new dataframe containing only the T and V variables (our explanatory variables for the linear\n",
    "# regression model)\n",
    "newX_train1 = X_train[['T', 'V']].copy()\n",
    "\n",
    "# sanity check\n",
    "newX_train1.head()"
   ]
  },
  {
   "cell_type": "markdown",
   "metadata": {},
   "source": [
    "### Fit the model using 5-fold cross validation; Also specify the number of folds to use during cross validation via the 'cv' parameter"
   ]
  },
  {
   "cell_type": "code",
   "execution_count": 207,
   "metadata": {},
   "outputs": [
    {
     "name": "stdout",
     "output_type": "stream",
     "text": [
      "[0.91014846 0.91535804 0.91601249 0.91769219 0.91494075]\n"
     ]
    }
   ],
   "source": [
    "# Assing the model function to a variable\n",
    "model = LinearRegression()\n",
    "\n",
    "# fit the model using 5-fold cross validation and specify the number of folds to use during cross validation via the 'cv' parameter\n",
    "scores1 = cross_val_score(model, newX_train1, y_train, cv=5)\n",
    "\n",
    "# print out the accuracy metrics derived from the K-fold cross validation process\n",
    "print (scores1)"
   ]
  },
  {
   "cell_type": "code",
   "execution_count": 208,
   "metadata": {},
   "outputs": [
    {
     "data": {
      "text/plain": [
       "0.9148303865957537"
      ]
     },
     "execution_count": 208,
     "metadata": {},
     "output_type": "execute_result"
    }
   ],
   "source": [
    "import numpy as np\n",
    "\n",
    "# calculate the average accuracy across all 5 folds\n",
    "np.mean(scores1)"
   ]
  },
  {
   "cell_type": "code",
   "execution_count": 209,
   "metadata": {},
   "outputs": [
    {
     "name": "stdout",
     "output_type": "stream",
     "text": [
      "[0.90125496 0.9188024  0.91232847 0.91858987 0.92210885 0.90963351\n",
      " 0.91711569 0.91853757 0.91312528 0.91637728]\n"
     ]
    }
   ],
   "source": [
    "# fit the model using 10-fold cross validation and specify the number of folds to use during cross validation via the 'cv' parameter\n",
    "scores10 = cross_val_score(model, newX_train1, y_train, cv=10)\n",
    "\n",
    "# print out the accuracy metrics derived from the K-fold cross validation process\n",
    "print (scores10)"
   ]
  },
  {
   "cell_type": "code",
   "execution_count": 210,
   "metadata": {},
   "outputs": [
    {
     "data": {
      "text/plain": [
       "0.9147873877833836"
      ]
     },
     "execution_count": 210,
     "metadata": {},
     "output_type": "execute_result"
    }
   ],
   "source": [
    "# calculate the average accuracy across all 5 folds\n",
    "np.mean(scores10)"
   ]
  },
  {
   "cell_type": "markdown",
   "metadata": {},
   "source": [
    "#### Both My 5-fold and 10-fold cross validation shows that our model has a cross validated accuracy of 91.5%"
   ]
  },
  {
   "cell_type": "markdown",
   "metadata": {},
   "source": [
    "# Second linear regression model:\n",
    "\n",
    "#### According to my EDA above, I choose pressure and humidity as my explanatory variables for my second linear model, because both of them have the lowest R_square value."
   ]
  },
  {
   "cell_type": "code",
   "execution_count": 211,
   "metadata": {},
   "outputs": [
    {
     "data": {
      "text/html": [
       "<div>\n",
       "<style scoped>\n",
       "    .dataframe tbody tr th:only-of-type {\n",
       "        vertical-align: middle;\n",
       "    }\n",
       "\n",
       "    .dataframe tbody tr th {\n",
       "        vertical-align: top;\n",
       "    }\n",
       "\n",
       "    .dataframe thead th {\n",
       "        text-align: right;\n",
       "    }\n",
       "</style>\n",
       "<table border=\"1\" class=\"dataframe\">\n",
       "  <thead>\n",
       "    <tr style=\"text-align: right;\">\n",
       "      <th></th>\n",
       "      <th>AP</th>\n",
       "      <th>RH</th>\n",
       "    </tr>\n",
       "  </thead>\n",
       "  <tbody>\n",
       "    <tr>\n",
       "      <th>1090</th>\n",
       "      <td>1019.57</td>\n",
       "      <td>72.44</td>\n",
       "    </tr>\n",
       "    <tr>\n",
       "      <th>6137</th>\n",
       "      <td>1015.21</td>\n",
       "      <td>79.33</td>\n",
       "    </tr>\n",
       "    <tr>\n",
       "      <th>4703</th>\n",
       "      <td>1009.11</td>\n",
       "      <td>70.74</td>\n",
       "    </tr>\n",
       "    <tr>\n",
       "      <th>1901</th>\n",
       "      <td>1012.37</td>\n",
       "      <td>83.69</td>\n",
       "    </tr>\n",
       "    <tr>\n",
       "      <th>3704</th>\n",
       "      <td>1005.86</td>\n",
       "      <td>76.77</td>\n",
       "    </tr>\n",
       "  </tbody>\n",
       "</table>\n",
       "</div>"
      ],
      "text/plain": [
       "           AP     RH\n",
       "1090  1019.57  72.44\n",
       "6137  1015.21  79.33\n",
       "4703  1009.11  70.74\n",
       "1901  1012.37  83.69\n",
       "3704  1005.86  76.77"
      ]
     },
     "execution_count": 211,
     "metadata": {},
     "output_type": "execute_result"
    }
   ],
   "source": [
    "# create a new dataframe containing only the T and V variables (our explanatory variables for the linear\n",
    "# regression model)\n",
    "newX_train2 = X_train[['AP', 'RH']].copy()\n",
    "\n",
    "# sanity check\n",
    "newX_train2.head()"
   ]
  },
  {
   "cell_type": "code",
   "execution_count": 212,
   "metadata": {},
   "outputs": [
    {
     "name": "stdout",
     "output_type": "stream",
     "text": [
      "[0.41374371 0.38086896 0.3574     0.38344809 0.37106933]\n"
     ]
    }
   ],
   "source": [
    "# Assing the model function to a variable\n",
    "model = LinearRegression()\n",
    "\n",
    "# fit the model using 5-fold cross validation and specify the number of folds to use during cross validation via the 'cv' parameter\n",
    "scores2 = cross_val_score(model, newX_train2, y_train, cv=5)\n",
    "\n",
    "# print out the accuracy metrics derived from the K-fold cross validation process\n",
    "print (scores2)"
   ]
  },
  {
   "cell_type": "code",
   "execution_count": 213,
   "metadata": {},
   "outputs": [
    {
     "data": {
      "text/plain": [
       "0.3813060168884857"
      ]
     },
     "execution_count": 213,
     "metadata": {},
     "output_type": "execute_result"
    }
   ],
   "source": [
    "import numpy as np\n",
    "\n",
    "# calculate the average accuracy across all 5 folds\n",
    "np.mean(scores2)"
   ]
  },
  {
   "cell_type": "markdown",
   "metadata": {},
   "source": [
    "#### My 10-fold cross validation shows that our model has a cross validated accuracy of 38.1%"
   ]
  },
  {
   "cell_type": "markdown",
   "metadata": {},
   "source": [
    "### So comparing these two models, the first one have the higher cross validation scores 91.4%, which  means that the temperature and vaccum variables are the best choice to predite the energy output in my model. "
   ]
  },
  {
   "cell_type": "markdown",
   "metadata": {},
   "source": [
    "### Conclusion: \n",
    "\n",
    "### From the models I built above and the EDA explanation, we can observe that the first model is the best to predict the energy utoput. Among all the explanatory variables, temperature is the best one to predict and humidity is not efficient to predict the energy output. when we combine the temperatuer and vaccum variables together, this model is the best predictive. and also when we add the pressure and humidity together, their scross validation score ia also higher than their individual regression R_square. Additionally, I test the different K-fold cross validation, and found that the difference between their scores are very small, so we do not worry too much about the K-fold comparing to the explanatory variables which has most influence in our medol."
   ]
  },
  {
   "cell_type": "code",
   "execution_count": null,
   "metadata": {},
   "outputs": [],
   "source": []
  },
  {
   "cell_type": "code",
   "execution_count": null,
   "metadata": {},
   "outputs": [],
   "source": []
  },
  {
   "cell_type": "code",
   "execution_count": null,
   "metadata": {},
   "outputs": [],
   "source": []
  }
 ],
 "metadata": {
  "kernelspec": {
   "display_name": "Python 3",
   "language": "python",
   "name": "python3"
  },
  "language_info": {
   "codemirror_mode": {
    "name": "ipython",
    "version": 3
   },
   "file_extension": ".py",
   "mimetype": "text/x-python",
   "name": "python",
   "nbconvert_exporter": "python",
   "pygments_lexer": "ipython3",
   "version": "3.7.7"
  }
 },
 "nbformat": 4,
 "nbformat_minor": 4
}
