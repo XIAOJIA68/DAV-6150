{
  "nbformat": 4,
  "nbformat_minor": 0,
  "metadata": {
    "colab": {
      "name": "ML review notes.ipynb",
      "provenance": [],
      "collapsed_sections": [],
      "include_colab_link": true
    },
    "kernelspec": {
      "name": "python3",
      "display_name": "Python 3"
    }
  },
  "cells": [
    {
      "cell_type": "markdown",
      "metadata": {
        "id": "view-in-github",
        "colab_type": "text"
      },
      "source": [
        "<a href=\"https://colab.research.google.com/github/XIAOJIA68/DAV-6150/blob/master/ML_review_notes.ipynb\" target=\"_parent\"><img src=\"https://colab.research.google.com/assets/colab-badge.svg\" alt=\"Open In Colab\"/></a>"
      ]
    },
    {
      "cell_type": "markdown",
      "metadata": {
        "id": "jVuo5Z4tyB1K"
      },
      "source": [
        "![image.png](data:image/png;base64,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)"
      ]
    },
    {
      "cell_type": "markdown",
      "metadata": {
        "id": "zqA8Dxe1E6TK"
      },
      "source": [
        "$\\color{red}{Linear *Regression*}$"
      ]
    },
    {
      "cell_type": "markdown",
      "metadata": {
        "id": "Fa05iQhOF3GO"
      },
      "source": [
        "With linear regression, you can predict a continuous  output variable using one or more input variables by assuming a linear relationship between the input variable x and the output variable Y.  \n",
        "\n",
        "$$y_i = X^T_i \\beta + \\epsilon_i, \\epsilon_i \\sim N(0, \\sigma^2)$$, \n",
        "\n",
        "The simplest form of the regression equation with one dependent and one independent variable is defined by the formula y = c + b*x, where y = estimated dependent variable score, c = constant, b = regression coefficient, and x = score on the independent variable.\n",
        "\n",
        "Assumption:\n",
        "1.   Linearity: The relationship between X and the mean of Y is linear.\n",
        "2.   Homoscedasticity: The variance of residual is the same for any value of X\n",
        "3.   Independence: Observations are independent of each other.\n",
        "4.   Normality: For any fixed value of X, Y is normally distributed. (seems not required for linear regression to work due law of large numbers)\n",
        "\n",
        "No or less Multicollinearity \n",
        "\n",
        "Cost Function: MSE Mean Square Error\n",
        "\n",
        "$R^2$, coefficient of Determination \n",
        "\n",
        "represent the proportion of the variance for a dependent variable that’s explained by an independent variable in a regression model \n",
        "The variance explained by the model/total variance.\n",
        "\n",
        "Cons:\n",
        "Need Linear relationship hold Very sensitive to anomalies\n",
        "If Feature>sample, work bad\n"
      ]
    },
    {
      "cell_type": "markdown",
      "metadata": {
        "id": "QaT3RSuOE9RS"
      },
      "source": [
        "$\\color{red}{Logistic *Regression*}$"
      ]
    },
    {
      "cell_type": "markdown",
      "metadata": {
        "id": "oWdtDfNkI8Gd"
      },
      "source": [
        "part of GLM: a GLM is characterized by 3 components: \n",
        "\n",
        "1.   response distribution;\n",
        " error structure (i.e., distribution $Y_i$)\n",
        "2.   Linear predictor: $X\\beta$\n",
        "3.   Link function that connects the mean of i-th obeservation and its linear predictior: $\\eta_t = g_i(\\mu_i) = X_i^T \\beta$\n",
        "\n"
      ]
    },
    {
      "cell_type": "markdown",
      "metadata": {
        "id": "as5DEhuzKStu"
      },
      "source": [
        "$\\log(\\frac{p}{1-p}) = X\\beta$\n",
        "\n",
        "MLE is used for estimation. Specifically, this likelihood gives the probability of the observed zeros and ones in the data. We pick $\\beta$ to maximize the likelihood\n",
        "of the observed data."
      ]
    },
    {
      "cell_type": "markdown",
      "metadata": {
        "id": "Td8lSrbyMB8B"
      },
      "source": [
        "Cost Function: Cross Entropy, Log loss, \n",
        "\n",
        "A logistic function is applied to a linear equation and the output is interpreted as the log-odds of a new event being a member of a particular class. Linear regression is used for continuous targets while logistic regression is used for binary targets as the sigmoid curve in the logistic model forces the features to either 0 or 1.\n",
        "\n",
        "**Pos:**\n",
        "ParaOutputs have a nice probabilistic interpretation, and the algorithm can be regularized to avoid overfitting. Logistic models can be updated easily with new data using stochastic gradient descent.\n",
        "\n",
        "Efficient implementations available across tools\n",
        "\n",
        "Multicollinearity is not really an issue and can be countered with L2 regularization to an extent\n",
        "\n",
        "Widespread industry comfort for logistic regression solutions [ oh that’s important too!]\n",
        "\n",
        "easy to interpret. the output can be interpreted as a probability: you can use it for ranking instead of classification.\n",
        "\n",
        "use it if you expect to receive more training data in the future and want to quickly be incorporated into the model.\n",
        "\n",
        "**Disadvantages :**\n",
        "Cannot be applied on non-linear classification problems.\n",
        "\n",
        "Proper selection of features is required.\n",
        "\n",
        "Good signal to noise ratio is expected.\n",
        "\n",
        "Collinearity and outliers tamper the accuracy of LR model\n",
        "\n",
        "Logistic regression tends to underperform when there are multiple or non-linear decision boundaries. They are not flexible enough to naturally capture more complex relationships.\n",
        "\n",
        "Doesn’t handle large number of categorical features/variables well\n",
        "\n",
        "**Parameter**: Learning rate(α) and Regularization parameter(λ)\n"
      ]
    },
    {
      "cell_type": "markdown",
      "metadata": {
        "id": "gpHKYF28UgVi"
      },
      "source": [
        "Logistic regression measures the relationship between the categorical dependent variable and one or more independent variables by estimating probabilities using a **logistic function, which is the cumulative distribution function of logistic distribution.** \n",
        "\n",
        "It assumes errors of logistic distribution. And **conditional distribution $y|x$ is bernouii**"
      ]
    },
    {
      "cell_type": "markdown",
      "metadata": {
        "id": "G0NcAEN8bFtY"
      },
      "source": [
        "$\\color{red}{ PCA}$\n"
      ]
    },
    {
      "cell_type": "markdown",
      "metadata": {
        "id": "goVfNojHiI2I"
      },
      "source": [
        "Linear dimension reduction techniques.\n",
        "\n",
        "Principal Component Analysis (PCA) PCA is a dimension-reduction technique used to reduce the number of variables \n",
        "in a dataset by grouping together variables that are measured on the same scale and are highly correlated. Its purpose is to distill the dataset down to a new set of variables that can still explain most of its variance.\n",
        "PCA yields the principal components that maximize the variance of the data\n",
        "\n",
        "\n"
      ]
    },
    {
      "cell_type": "markdown",
      "metadata": {
        "id": "I5H-CyqVp2xz"
      },
      "source": [
        "**ISLR**:\n",
        "\n",
        "It finds a sequence of linear combinations of the\n",
        "variables that have maximal variance, and are mutually\n",
        "uncorrelated."
      ]
    },
    {
      "cell_type": "markdown",
      "metadata": {
        "id": "SmtvIV-qqBuH"
      },
      "source": [
        "first principal component of a set of features $X_1, ... X_p$ is the normalized linear combination of features:\n",
        "$$Z_1 = \\phi_{11} X_1 + ... + \\phi_{p1} X_p$$\n",
        "\n",
        "that has the largest variance. By normalization, it means that the sum of $\\phi$ is 1. The $\\phi$ are called loadings of the first principal ocmpoennt. "
      ]
    },
    {
      "cell_type": "markdown",
      "metadata": {
        "id": "v3Lz60ofqtxd"
      },
      "source": [
        "Solve:\n",
        "Max_$\\phi$\n",
        "$ \\frac{1}{n} \\sum_i^n (\\sum_{j = 1}^p \\phi_{j1} x_{ij})^2 s.t. \\sum_{j = 1}^p \\phi_{j1}^2 = 1 $"
      ]
    },
    {
      "cell_type": "markdown",
      "metadata": {
        "id": "PIMNt9Y7rSMu"
      },
      "source": [
        "solved vis SVD"
      ]
    },
    {
      "cell_type": "markdown",
      "metadata": {
        "id": "4ioJ1Kn2rXTM"
      },
      "source": [
        "the loadings $\\phi_1$ with elements $\\phi_{11}, ..., \\phi_{p1}$ defines the direction in feature space along which the data vary the most.\n",
        "\n",
        "If we project the n data points $x_1,..., x_n$ onto this direction, the projected values are the principal component scores $z_{11},... , z_{n1}$"
      ]
    },
    {
      "cell_type": "markdown",
      "metadata": {
        "id": "2TFoITG_rw75"
      },
      "source": [
        "the second PC is the linear combo of X1, ..., Xp with maximal variance among all linear combo that are uncoorelated with Z1. Equvalent to above maximization problem with additional constraint that direction of $\\phi_2$ orthogonal to $\\phi_!$"
      ]
    },
    {
      "cell_type": "markdown",
      "metadata": {
        "id": "d-5PlbWWsQyX"
      },
      "source": [
        "PCA uses SVD to solve rather than forming a covariance matrix first and then perform eigen value decomposition due to numerical precision purpose\n",
        "\n",
        "\"using the SVD to perform PCA makes much better sense numerically than forming the covariance matrix to begin with, since the formation of 𝐗𝐗⊤ can cause loss of precision.\"\n",
        "\n",
        "\n",
        "https://math.stackexchange.com/questions/3869/what-is-the-intuitive-relationship-between-svd-and-pca"
      ]
    },
    {
      "cell_type": "markdown",
      "metadata": {
        "id": "QdkNBFHbtQ3K"
      },
      "source": [
        "further details:\n",
        "\n",
        "principal compoents directions $\\phi_1$ (loadings for PC1), $\\phi_2$... are ordered sequence of right singular vectors of matrix X and variacne of componets are 1/n * (singualr values)^2. At most min(n - 1, p) PCs."
      ]
    },
    {
      "cell_type": "markdown",
      "metadata": {
        "id": "FFHCL60MuZWu"
      },
      "source": [
        "$\\color{blue} proportion$ of variance explained: (denomiator is total variance)\n",
        "\n",
        "$$ \\frac{\\sum_{i=1}^n z_{im}^2}{\\sum_{j = 1}^p \\sum_{i = 1}^n x_{ij}^2}$$"
      ]
    },
    {
      "cell_type": "markdown",
      "metadata": {
        "id": "ZMBmPjpgFPIp"
      },
      "source": [
        "$\\color{red}{Tree *methods* }$"
      ]
    },
    {
      "cell_type": "markdown",
      "metadata": {
        "id": "ioTo1TzWlPo2"
      },
      "source": [
        "**High level:**\n",
        "\n",
        "Decision tree is a tree based algorithm used to solve regression and classification problems. A decision tree uses a tree structure to specify sequences of decisions and consequences. \n",
        "\n",
        "**The idea is simple: it breaks down a dataset into smaller subsets.  An inverted tree is framed which is branched off from a homogeneous probability distributed root node, to highly heterogeneous leaf nodes, for deriving the output. **\n",
        "\n",
        "The depth of a node is the minimum number of steps required to reach the node from the root.Tree-based methods tend to perform well on unprocessed data (i.e. without normalizing, centering, scaling features). Decision trees frequently perform well on imbalanced data. They work by learning a hierarchy of if/else questions and this can force both classes to be addressed.\n"
      ]
    },
    {
      "cell_type": "markdown",
      "metadata": {
        "id": "6sJHRKg4lAyq"
      },
      "source": [
        "$\\color{purple}{CART}$: used GINI impurity to choose features used to split branch"
      ]
    },
    {
      "cell_type": "markdown",
      "metadata": {
        "id": "6kQS94Lwmuls"
      },
      "source": [
        "Hyperparameters :\n",
        "Decision tree includes many hyperparameters and I will list a few among them.\n",
        "criterion : which cost function for selecting the next tree node. Mostly used ones are **gini/entropy.**\n",
        "\n",
        "max depth : it is the maximum allowed depth of the decision tree.\n",
        "minimum samples split : It is the minimum nodes required to split an internal node.\n",
        "minimum samples leaf : minimum samples that are required to be at the leaf node.\n",
        "\n",
        "**Pros:**\n",
        "No preprocessing needed on data.\n",
        "\n",
        "No assumptions on distribution of data.\n",
        "\n",
        "Handles collinearity efficiently.\n",
        "\n",
        "Decision trees can provide understandable explanations over the prediction.\n",
        "Can be combined with other decision techniques.\n",
        "\n",
        "no distribution requirement\n",
        "handle very well high dimensional spaces as well as large numbers of training examples.\n",
        "\n",
        "\n",
        "**Cons:**\n",
        "Chances for overfitting the model if we keep on building the tree to achieve high purity. decision tree pruning can be used to solve this issue.\n",
        "Prone to outliers.\n",
        "\n",
        "Trees may grow to be very complex while training complicated datasets.\n",
        "\n",
        "Loses valuable information while handling continuous variables.\n"
      ]
    },
    {
      "cell_type": "markdown",
      "metadata": {
        "id": "nimGkcSdlO59"
      },
      "source": [
        "$\\color{purple}{Random*  Forest}$"
      ]
    },
    {
      "cell_type": "markdown",
      "metadata": {
        "id": "sL_ZiSrtmf4k"
      },
      "source": [
        "Random Forest is an **ensemble model **where multiple decision trees are combined to get a stronger model. The group of decision trees that all have the same response variable, but slightly different predictor variables. The output of a random forest model is calculated by taking a “vote” of the predicted classification for each tree and having the forest output the majority opinion. The derived model will be more robust, accurate and handles overfitting better.\n",
        "\n",
        "\n",
        "**Basic Theory :**\n",
        "Random Forests have a set of decision trees ensembled with a “bagging method” to obtain classification and regression outputs. In classification, it calculates the output using majority voting , whereas in regression, mean is calculated.\n",
        "\n",
        "**Parameter**（nestimators, max_features,max_leaf_nodes)\n",
        "Bagging: random sampling with replacement from the original set to generate additional training data, the purpose of bagging is to reduce the variance while retaining the bias, it is effective because you are improving the accuracy of a single model by using multiple copies of it trained on different sets of data, but bagging is not recommended on models that have a high bias.\n",
        "\n",
        "**Advantages :**\n",
        "Accurate and powerful model.\n",
        "Supports implicit feature selection and derives feature importance\n",
        "Prevent Overfitting, reduce variance. \n",
        "They also do not require preparation of the input data. You do not have to scale the data.\n",
        "It also maintains accuracy even when a large proportion of the data are missing.\n",
        "\n",
        "**Disadvantages :**\n",
        "Time Consuming, computationally complex and slower when forest becomes large.\n",
        "对于维度高的稀疏数据（文本）表现得不是太好，比较慢，需要大的内存。\n"
      ]
    },
    {
      "cell_type": "markdown",
      "metadata": {
        "id": "iPbnhM_Klllu"
      },
      "source": [
        "$\\color{purple}{Gradient Boosting}$"
      ]
    },
    {
      "cell_type": "markdown",
      "metadata": {
        "id": "W8_3aQRilwKm"
      },
      "source": [
        "an emsemble of weak learners. Weak learner can be a stump (a tree with 2 leaves). Works by fitting residuals and iteratively update\n",
        "\n",
        "\n",
        "Unlikely Random Forest, which builds many weak learners parallelly. GBT builds trees one at time. It builds a sequence of weak learners iteratively,where each new tree helps to correct errors made by previously trained trees. Boosting reduces error mainly by reducing bias (and also to some extent variance, by aggregating the output from many models).\n",
        "\n",
        "Lost Function:\n",
        "square loss or exponential loss\n",
        "\n",
        "Parameter:\n",
        "shrinkage parameter, n_estimators,learning rate(矫正错误能力), max_depth, max_leaf_nodes \n",
        "\n",
        "**Pros:**\n",
        "\n",
        "Lots of flexibility - can optimize on different loss functions and provides several hyperparameter tunning options that make the function fit very flexible.\n",
        "No data preprocessing required, often works great with categorical and numerical values as is.\n",
        "\n",
        "Handles missing data, imputation not required.\n",
        "\n",
        "Often provides predictive accuracy that cannot be beat.\n",
        "\n",
        "**Cons:**\n",
        "GBMs will continue improving to minimize all errors. This can overemphasize outliers and cause overfitting. Must use cross-validation to neutralize.\n",
        "\n",
        "Computationally expensive, GBMs often require many trees (>1000) which can be time and memory exhaustive.\n",
        "\n",
        "Tuning Parameter Carefully\n",
        "\n"
      ]
    },
    {
      "cell_type": "markdown",
      "metadata": {
        "id": "qPzUHZ8slpLc"
      },
      "source": [
        "$\\color{purple}{XGB}$"
      ]
    },
    {
      "cell_type": "markdown",
      "metadata": {
        "id": "ddIVALyWnfkP"
      },
      "source": [
        "\n",
        "\n",
        "1.   ensemble methods: each tree boosts attributes leading to misclassfication in previous tree\n",
        "\n",
        "**features:**\n",
        "1.   regularized boosting\n",
        "2.   handles missing values\n",
        "3.   parallel processing; fast\n",
        "4.   cross-validate each iteration\n",
        "5.   incremental training\n",
        "6.   one can plug own objective function\n",
        "7.   tree pruning\n",
        "8.   can use only subset of rows or columns\n",
        "\n",
        "\n",
        "\n"
      ]
    },
    {
      "cell_type": "markdown",
      "metadata": {
        "id": "eEs975aDn6Ze"
      },
      "source": [
        "XGB used unique tree:\n",
        "\n",
        "1. use a leaf for prediction; each residual in each leaf node (?) (calculate simialarity score): $\\frac{SSR^2}{num Res + \\gamma}$; higher similarity score better; $\\color{purple}{classification}:$ $\\frac{SSR^2}{\\Sigma(1 - prev prob_i) * prev prob_i) + \\gamma}$\n",
        "\n",
        "2. use feature to split (try different features and choose the one with highest gain in similarity score)\n",
        "\n",
        "3. continue splitting (prune based on gain values and also $\\lambda$ vs gain in lowest branch (i.e. if gain - $\\lambda$ < 0 remove that node)\n",
        "\n",
        "4. output of tree = $\\frac{SSR}{num res + \\gamma}$\n"
      ]
    },
    {
      "cell_type": "markdown",
      "metadata": {
        "id": "kDfVm_mAlsse"
      },
      "source": [
        "$\\color{purple}{lightGBM}$"
      ]
    },
    {
      "cell_type": "markdown",
      "metadata": {
        "id": "O3Yltsh0nH1Y"
      },
      "source": [
        "fast version of GB; leaf-wise split (unbalance); GOSS (only choose samples with large loss to inspect) -> gradient-one-side sampling"
      ]
    },
    {
      "cell_type": "markdown",
      "metadata": {
        "id": "zfeWoRrxMBX_"
      },
      "source": [
        "$\\color{red}{Fixed **effects*}$"
      ]
    },
    {
      "cell_type": "markdown",
      "metadata": {
        "id": "dJ9ZUPpdknDI"
      },
      "source": [
        "*Fixed effects are variables that are constant across individuals; these variables, like age, sex, or ethnicity, don't change or change at a constant rate over time. They have fixed effects; in other words, any change they cause to an individual is the same.*"
      ]
    },
    {
      "cell_type": "markdown",
      "metadata": {
        "id": "fKv1K7ZCaPcr"
      },
      "source": [
        "\"Such models assist** in controlling for omitted variable bias due to unobserved heterogeneity when this heterogeneity is constant over time**. This heterogeneity can be removed from the data through differencing, for example by subtracting the group-level average over time, or by taking a first difference which will remove any time invariant components of the model.\n",
        "\n",
        "There are two common assumptions made about the individual specific effect: the random effects assumption and the fixed effects assumption. \n",
        "\n",
        "The random effects assumption is that the **individual-specific effects are uncorrelated with the independent variables**. \n",
        "\n",
        "The fixed effect assumption is that **the individual-specific effects are correlated with the independent variables**. \n",
        "\n",
        "If the random effects assumption holds, the random effects estimator is more efficient than the fixed effects estimator. However, if this assumption does not hold, the random effects estimator is not consistent. The Durbin–Wu–Hausman test is often used to discriminate between the fixed and the random effects models.[7][8]\n",
        "\n",
        "\""
      ]
    },
    {
      "cell_type": "markdown",
      "metadata": {
        "id": "WEaejCQekGZ2"
      },
      "source": [
        "$$Y_{it} = a_i + \\beta X_{it} + u_{it}$$\n",
        "\n",
        "The  $a_i$ are entity-specific intercepts that capture heterogeneities across entities. To control for unobserved time-invariant heteroenity across entities i = 1,.., n"
      ]
    },
    {
      "cell_type": "markdown",
      "metadata": {
        "id": "XiQDdWXtFWii"
      },
      "source": [
        "$\\color{red}{*Random Effects*}$\n",
        "\n",
        "assume the mean parameter is varying in an unknown way with a random distirbution"
      ]
    },
    {
      "cell_type": "markdown",
      "metadata": {
        "id": "mCfTfuPDkv57"
      },
      "source": [
        "The opposite of fixed effects are random effects. These variables are—like the name suggests—random and unpredictable; they are literally random effects. Examples:\n",
        "\n",
        "The price for a three-course-dinner varies wildly depending on location (e.g. Yulee, Florida will be a lot cheaper than New York City).\n",
        "The cost of a new car varies depending on what year it was purchased"
      ]
    },
    {
      "cell_type": "markdown",
      "metadata": {
        "id": "x3aghqWjOrsl"
      },
      "source": [
        "$\\color{red}{DL}$"
      ]
    },
    {
      "cell_type": "markdown",
      "metadata": {
        "id": "hfLa93pyOx2A"
      },
      "source": [
        "**High level**:\n",
        "\n",
        "\"DL evolved from an exisiting ANN ML technique to model high-level abstractions and patterns in data by using a network structure with multiple processsing layers, composed of multiple linear or nonlinear transformations\"\n",
        "\n",
        "or \"stacks of non-linear regressions\""
      ]
    },
    {
      "cell_type": "markdown",
      "metadata": {
        "id": "FfgVdvg6PSDn"
      },
      "source": [
        "\"let the\n",
        "data and sophisticated algorithms detect natural language\n",
        "subtleties instead of hand-coding the sentence-attributes to\n",
        "enter as X-variables (input variables) in typical classification\n",
        "models. In this way, the use of deep learning as a supervised\n",
        "learning content-coding algorithm is much more scalable and\n",
        "applicable in any domain and for commercial purpose\""
      ]
    },
    {
      "cell_type": "markdown",
      "metadata": {
        "id": "YNtNYOFuSbeE"
      },
      "source": [
        "using DL for NLP e.g., use MTurkers to label data with price and quality info and then train e.g., CNN, LSTM, RNN on the labeled data either with content info of price or quality and then sentiment (good or bad). (e.g., from large scale review analysis; these learned features can then be put into a choice model to learn the effects)"
      ]
    },
    {
      "cell_type": "markdown",
      "metadata": {
        "id": "UwyxzwRSybd6"
      },
      "source": [
        "$\\color{red}{NLP }$"
      ]
    },
    {
      "cell_type": "markdown",
      "metadata": {
        "id": "LC7xkQU4ygyX"
      },
      "source": [
        "GLOVE embedding:\n",
        "\n",
        "dense (?) global vectors for word embedding that captures global corpus stats s.t.\n",
        "\n",
        "\n",
        "\n",
        "1.   contexts are capture\n",
        "2.   word-word  stat or co-occur prob \n",
        "\n",
        "J = $\\Sigma f(X_{ij}) (W_i^T W'_j + b_i + b'_j - log(X_{ij))^2$\n",
        "\n",
        "Sum:\n",
        "1. weighting function (correct for rare words)\n",
        "2.  dot product + bias prevalence - $ log occur_j in context_i\n"
      ]
    },
    {
      "cell_type": "markdown",
      "metadata": {
        "id": "ayato-hBZfmr"
      },
      "source": [
        "$\\color{red}{Missing *Value }$"
      ]
    },
    {
      "cell_type": "markdown",
      "metadata": {
        "id": "dfzH2CtqZ0gF"
      },
      "source": [
        "\n",
        "1.  Miss-completely at random (directly drop; also related to business, percentage \n",
        "not low, want to impute)\n",
        "2.  Missing at random \n",
        "3.  Missing not at random\n",
        "\n",
        "Imputation: majority vote; median, mean; knn model (risk to bring in new bias"
      ]
    },
    {
      "cell_type": "markdown",
      "metadata": {
        "id": "fouNyRgCu5jl"
      },
      "source": [
        "$\\color{red}{Clustering}$:\n",
        "\n",
        "Core: defined a distance such that within group is high, and between group similarity is low.:\n",
        "\n",
        "e.g. K-means: $WCV(C_k) = 1/|C_k| \\sum_{i, i' \\in C_k} \\sum_{j = 1}^p (x_{ij} - x_{i'j})^2$\n",
        "\n",
        "\n",
        "Seems leading to cosine similarity commonly used in NLP"
      ]
    },
    {
      "cell_type": "markdown",
      "metadata": {
        "id": "YPFAdcZewDOH"
      },
      "source": [
        "**CNN high level**:\n",
        "\n",
        "\n",
        "The hidden layers of a **CNN typically consist of a series of convolutional layers that convolve with a multiplication or other dot product.** The activation function is commonly a RELU layer, and is subsequently followed by additional convolutions such as pooling layers, fully connected layers and normalization layers, referred to as hidden layers because their inputs and outputs are masked by the activation function and final convolution.\n",
        "\n",
        "Though the layers are colloquially referred to as convolutions, this is only by convention. Mathematically, it is technically a sliding dot product or cross-correlation. This has significance for the indices in the matrix, in that it affects how weight is determined at a specific index point."
      ]
    },
    {
      "cell_type": "markdown",
      "metadata": {
        "id": "4YkV6O6rveE5"
      },
      "source": [
        "![image.png](data:image/png;base64,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)\n",
        "\n",
        "$\\color{purple}{To-add}$: generative models and especially Bayesian!!!! CNN}"
      ]
    },
    {
      "cell_type": "markdown",
      "metadata": {
        "id": "OWEC8g3l0nWk"
      },
      "source": [
        "BCM:\n",
        "\n",
        "Bayesian Case Model (BCM), a general framework for Bayesian case-based reasoning (CBR) and prototype classification and clustering. BCM brings the intuitive power of CBR to a Bayesian generative framework. The BCM learns prototypes, the \"quintessential\" observations that best represent clusters in a dataset, by performing joint inference on cluster labels, prototypes and important features. Simultaneously, BCM pursues sparsity by learning subspaces, the sets of features that play important roles in the characterization of the prototypes. The prototype and subspace representation provides quantitative benefits in interpretability while preserving classification accuracy. Human subject experiments verify statistically significant improvements to participants' understanding when using explanations produced by BCM, compared to those given by prior art."
      ]
    },
    {
      "cell_type": "code",
      "metadata": {
        "id": "LittY9Px0paE"
      },
      "source": [
        ""
      ],
      "execution_count": null,
      "outputs": []
    },
    {
      "cell_type": "code",
      "metadata": {
        "id": "1xIKD0Xbz2HE"
      },
      "source": [
        ""
      ],
      "execution_count": null,
      "outputs": []
    }
  ]
}